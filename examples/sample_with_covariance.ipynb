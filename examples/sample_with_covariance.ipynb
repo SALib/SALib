{
 "cells": [
  {
   "cell_type": "code",
   "execution_count": 3,
   "metadata": {},
   "outputs": [],
   "source": [
    "import numpy as np"
   ]
  },
  {
   "cell_type": "code",
   "execution_count": 4,
   "metadata": {},
   "outputs": [],
   "source": [
    "from SALib.sample import saltelli"
   ]
  },
  {
   "cell_type": "code",
   "execution_count": 13,
   "metadata": {},
   "outputs": [
    {
     "name": "stdout",
     "output_type": "stream",
     "text": [
      "[[  0.   4.   2.   0.   0.]\n",
      " [  0.   2.   4.   0.   0.]\n",
      " [250.   0.   0.  10.  -2.]\n",
      " [400.   0.   0.  -2.  10.]]\n"
     ]
    }
   ],
   "source": [
    "means = np.array([0.0, 0.0, 250.0, 400.0])\n",
    "means = np.expand_dims(means, axis = 0).T\n",
    "\n",
    "cov = np.array([\n",
    "     [4,  2,  0,  0], \n",
    "     [2,  4,  0,  0], \n",
    "     [0,  0, 10, -2], \n",
    "     [0,  0, -2, 10]\n",
    "])\n",
    "\n",
    "composition = np.hstack((means, cov))\n",
    "print(composition)\n",
    "\n",
    "\n",
    "problem = {\n",
    "    'num_vars': 4,\n",
    "    'names': ['x1', 'x2', 'x3', 'x4'],\n",
    "    'bounds': composition,\n",
    "    'dists': 'multi_norm',\n",
    "}"
   ]
  },
  {
   "cell_type": "code",
   "execution_count": 14,
   "metadata": {},
   "outputs": [],
   "source": [
    "X = saltelli.sample(problem, 1000, calc_second_order=False)"
   ]
  },
  {
   "cell_type": "code",
   "execution_count": 16,
   "metadata": {},
   "outputs": [
    {
     "name": "stdout",
     "output_type": "stream",
     "text": [
      "[[ 4.00150919e+00  1.99508552e+00 -2.42809871e-02  9.45874574e-03]\n",
      " [ 1.99508552e+00  3.99577636e+00 -2.28703954e-02 -2.11412989e-02]\n",
      " [-2.42809871e-02 -2.28703954e-02  9.99190795e+00 -1.95228945e+00]\n",
      " [ 9.45874574e-03 -2.11412989e-02 -1.95228945e+00  9.95717186e+00]]\n"
     ]
    }
   ],
   "source": [
    "print(np.cov(X.T))"
   ]
  },
  {
   "cell_type": "code",
   "execution_count": 17,
   "metadata": {},
   "outputs": [
    {
     "name": "stdout",
     "output_type": "stream",
     "text": [
      "[3.08933655e-03 3.91430732e-03 2.49993216e+02 4.00008456e+02]\n"
     ]
    }
   ],
   "source": [
    "print(np.mean(X, axis=0))"
   ]
  }
 ],
 "metadata": {
  "kernelspec": {
   "display_name": "Python 3",
   "language": "python",
   "name": "python3"
  },
  "language_info": {
   "codemirror_mode": {
    "name": "ipython",
    "version": 3
   },
   "file_extension": ".py",
   "mimetype": "text/x-python",
   "name": "python",
   "nbconvert_exporter": "python",
   "pygments_lexer": "ipython3",
   "version": "3.8.2"
  }
 },
 "nbformat": 4,
 "nbformat_minor": 4
}
